{
 "cells": [
  {
   "cell_type": "code",
   "execution_count": null,
   "metadata": {},
   "outputs": [],
   "source": [
    "import warnings\n",
    "warnings.filterwarnings(\"ignore\")\n",
    "\n",
    "from IPython.core.display import display, HTML\n",
    "display(HTML(\"<style>.container { width:95% !important; }</style>\"))"
   ]
  },
  {
   "cell_type": "code",
   "execution_count": null,
   "metadata": {},
   "outputs": [],
   "source": [
    "#from IPython.display import HTML, display\n",
    "\n",
    "# .widget-label: labels at selections widgets\n",
    "# .widget-select > select: text in selections\n",
    "# .widget-button: button font size\n",
    "# .widget-label-basic: label size at checkboxes\n",
    "\n",
    "\"\"\"\n",
    "display(HTML('''<style>\n",
    "    .widget-label { font-size: 20pt; }\n",
    "    .widget-select > select { font-size: 20pt; }\n",
    "    .widget-button { font-size: 20pt; }\n",
    "    .widget-label-basic { font-size: 20pt; }\n",
    "</style>'''))\n",
    "\"\"\""
   ]
  },
  {
   "cell_type": "markdown",
   "metadata": {},
   "source": [
    "# NFDMLab Demo\n",
    "\n",
    "\n",
    "\n",
    "```\n",
    " This file is part of NFDMLab.\n",
    " \n",
    " NFDMLab is free software; you can redistribute it and/or\n",
    " modify it under the terms of the version 2 of the GNU General\n",
    " Public License as published by the Free Software Foundation.\n",
    "\n",
    " NFDMLab is distributed in the hope that it will be useful, but\n",
    " WITHOUT ANY WARRANTY; without even the implied warranty of\n",
    " MERCHANTABILITY or FITNESS FOR A PARTICULAR PURPOSE.  See the\n",
    " GNU General Public License for more details.\n",
    "\n",
    " You should have received a copy of the GNU General Public\n",
    " License along with NFDMLab; if not, write to the Free Software\n",
    " Foundation, Inc., 59 Temple Place, Suite 330, Boston, MA\n",
    " 02111-1307 USA\n",
    "```\n",
    "\n",
    "#### Contributors:\n",
    " * Sander Wahls (TU Delft) 2018\n",
    " * Marius Brehler (TU Dortmund) 2018-2019"
   ]
  },
  {
   "cell_type": "markdown",
   "metadata": {},
   "source": [
    "## Imports"
   ]
  },
  {
   "cell_type": "code",
   "execution_count": null,
   "metadata": {},
   "outputs": [],
   "source": [
    "import math\n",
    "import numpy as np\n",
    "\n",
    "%matplotlib notebook\n",
    "import matplotlib.pyplot as plt\n",
    "\n",
    "import ipywidgets as widgets\n",
    "\n",
    "import sys\n",
    "sys.path.append('../')\n",
    "\n",
    "import FNFTpy\n",
    "import Helpers.plot as hplt\n",
    "from Helpers.widgets import select_constellation, select_n_blocks, select_carrier_waveform, select_power_normalization, select_path_average, select_amplification, select_noise, create_hbox_modulationHeader3, create_hbox_transmitHeader, create_hbox_linkHeader, update_alpha\n",
    "\n",
    "from Examples.GuiEtAl2018 import GuiEtAl2018\n",
    "from QualityAssessment import BitErrorRatio\n",
    "from QualityAssessment import ConstellationDiagram\n",
    "from QualityAssessment import ModulationEfficiency"
   ]
  },
  {
   "cell_type": "markdown",
   "metadata": {},
   "source": [
    "## Feature definitions"
   ]
  },
  {
   "cell_type": "code",
   "execution_count": null,
   "metadata": {},
   "outputs": [],
   "source": [
    "available_amplification=['Lossless','EDFA','Raman']\n",
    "available_power_normalization={'2.0':{'mapping':False,'factor':2.0}, '4.0':{'mapping':True,'factor':4.0}, '6.0':{'mapping':False,'factor':6.0}, '8.0':{'mapping':True,'factor':8.0}}\n",
    "available_constellations={'Reshaphed 4-QAM':{'modulation':'ReshapedQAM','level':4},'Reshaphed 16-QAM':{'modulation':'ReshapedQAM','level':16},'Reshaphed 64-QAM':{'modulation':'ReshapedQAM','level':64}}\n",
    "available_n_blocks=[1,5,25]"
   ]
  },
  {
   "cell_type": "markdown",
   "metadata": {},
   "source": [
    "## Widgets and functions for visualization"
   ]
  },
  {
   "cell_type": "code",
   "execution_count": null,
   "metadata": {},
   "outputs": [],
   "source": [
    "def on_alpha_changed(change):\n",
    "    update_and_plot_alpha(change['new'])\n",
    "\n",
    "def on_constellation_changed(change):\n",
    "    update_and_plot_modulator(change['new'],False,selected_power_normalization.value,selected_path_average.value)\n",
    "\n",
    "def on_power_normalization_changed(change):\n",
    "    update_and_plot_modulator(selected_constellation.value,False,change['new'],selected_path_average.value)"
   ]
  },
  {
   "cell_type": "code",
   "execution_count": null,
   "metadata": {},
   "outputs": [],
   "source": [
    "selected_amplification = select_amplification(available_amplification, default_value='EDFA')\n",
    "selected_noise = select_noise()\n",
    "selected_path_average = select_path_average()\n",
    "\n",
    "hbox_link = widgets.HBox([selected_amplification, selected_noise, selected_path_average])\n",
    "ui_link = widgets.VBox([create_hbox_linkHeader(),hbox_link])\n",
    "\n",
    "selected_amplification.observe(on_alpha_changed, names='value')"
   ]
  },
  {
   "cell_type": "code",
   "execution_count": null,
   "metadata": {},
   "outputs": [],
   "source": [
    "selected_constellation = select_constellation(available_constellations,default_value='Reshaphed 16-QAM')\n",
    "selected_power_normalization = select_power_normalization(available_power_normalization, default_value='4.0')\n",
    "\n",
    "hbox_mod = widgets.HBox([selected_constellation, selected_power_normalization])\n",
    "ui_mod = widgets.VBox([create_hbox_modulationHeader3(),hbox_mod])\n",
    "\n",
    "selected_constellation.observe(on_constellation_changed, names='value')\n",
    "selected_power_normalization.observe(on_power_normalization_changed, names='value')"
   ]
  },
  {
   "cell_type": "code",
   "execution_count": null,
   "metadata": {},
   "outputs": [],
   "source": [
    "selected_n_blocks = select_n_blocks(available_n_blocks,default_value=25)\n",
    "transmit_button = widgets.Button(description=\"Transmit!\",layout=widgets.Layout(height='60px'))\n",
    "transmit_button.style.font_weight = 'bold'\n",
    "\n",
    "hbox_transmit = widgets.HBox([selected_n_blocks, transmit_button])\n",
    "ui_transmit = widgets.VBox([create_hbox_transmitHeader(),hbox_transmit])"
   ]
  },
  {
   "cell_type": "markdown",
   "metadata": {},
   "source": [
    "## Core functions"
   ]
  },
  {
   "cell_type": "code",
   "execution_count": null,
   "metadata": {},
   "outputs": [],
   "source": [
    "example = GuiEtAl2018()\n",
    "res_list = []"
   ]
  },
  {
   "cell_type": "code",
   "execution_count": null,
   "metadata": {},
   "outputs": [],
   "source": [
    "def update_and_plot_alpha(selected_amplification):\n",
    "    selected_alpha = update_alpha(selected_amplification,selected_noise,selected_path_average)\n",
    "    \n",
    "    plt.figure(fig_alpha.number)\n",
    "    plt.cla()\n",
    "    plt.title('Fiber Loss/Gain')\n",
    "    plt.xlabel('z in m')\n",
    "    plt.ylabel('Attenuation/Gain in dB')\n",
    "    \n",
    "    if selected_alpha.size == 1:  \n",
    "        alpha_over_z = np.ones(example.n_steps_per_span)*selected_alpha\n",
    "    else:\n",
    "        alpha_over_z = selected_alpha\n",
    "    \n",
    "    dz = example.fiber_span_length / example.n_steps_per_span\n",
    "    \n",
    "    \n",
    "    z_array = np.linspace(0,example.fiber_span_length,example.n_steps_per_span)\n",
    "    if selected_amplification == 'Raman':\n",
    "        summed_attenuation_over_z = np.cumsum(selected_alpha*dz) \n",
    "    else:\n",
    "        summed_attenuation_over_z = np.arange(0,example.n_steps_per_span) * dz * alpha_over_z\n",
    "        \n",
    "\n",
    "    if selected_amplification == 'EDFA':\n",
    "        plt.plot(np.append(z_array,z_array[-1]),np.append(-summed_attenuation_over_z,0))\n",
    "        example.post_boost = True\n",
    "    else:\n",
    "        plt.plot(z_array,-summed_attenuation_over_z)\n",
    "        example.post_boost = False\n",
    "    \n",
    "    example.alpha = selected_alpha # reconfigure will be called later anyway\n",
    "    \n"
   ]
  },
  {
   "cell_type": "code",
   "execution_count": null,
   "metadata": {},
   "outputs": [],
   "source": [
    "def update_modulator(choosen_constellation,dummy,power_normalization,path_average,n_blocks):\n",
    "    example.Ed = available_power_normalization[power_normalization]['factor']\n",
    "    example.constellation_type = available_constellations[choosen_constellation]['modulation']\n",
    "    example.constellation_level  = available_constellations[choosen_constellation]['level']\n",
    "    #example.roll_off_factor = available_carrier_waveforms[carrier_waveform]\n",
    "    example.path_average = path_average\n",
    "    example.reconfigure()\n",
    "    \n",
    "    tx_data = example.prepare_fiber_input(n_blocks,seed=3581)\n",
    "    return tx_data\n",
    "    \n",
    "    \n",
    "def update_and_plot_modulator(choosen_constellation,carrier_waveform,power_normalization,path_average,n_blocks=1):\n",
    "    tx_data = update_modulator(choosen_constellation,carrier_waveform,power_normalization,path_average,n_blocks)\n",
    "    \n",
    "    plt.figure(fig_vis.number)\n",
    "    plt.subplot(1,2,1)\n",
    "    plt.cla()\n",
    "    example.constellation.show()\n",
    "    \n",
    "    ax2 = plt.subplot(1,2,2)\n",
    "    plt.cla()\n",
    "    tx_data[\"nfspecs\"][0].show_contspec_mag(ax2)\n",
    "    return"
   ]
  },
  {
   "cell_type": "code",
   "execution_count": null,
   "metadata": {},
   "outputs": [],
   "source": [
    "def on_transmit_clicked(b):\n",
    "    example.path_average = selected_path_average.value\n",
    "    example.noise = selected_noise.value\n",
    "    example.reconfigure()\n",
    "    tx_data, rx_data = example.run(selected_n_blocks.value,seed=3581)\n",
    "\n",
    "    tx_power_level = np.mean(np.abs(tx_data['q'])**2)\n",
    "    tx_power_level_in_dBm = 10*np.log10(tx_power_level / 0.001)\n",
    "    print(\"Tx Power Level =\", tx_power_level_in_dBm, \"dBm\")\n",
    "    print(\"Link distance = \", (example.fiber_span_length*example.n_spans/1000), \"km\")\n",
    "\n",
    "    dispersion_length = example.Tscale**2 / np.abs(example.beta2)\n",
    "    nonlinear_length = 1.0 / np.max(np.abs(tx_data['q'])**2) / example.gamma\n",
    "    print(\"Dispersion length =\", dispersion_length/1e3, \"km\")\n",
    "    print(\"Nonlinear length =\", nonlinear_length/1e3, \"km\")\n",
    "    print('')\n",
    "    \n",
    "    # Plots\n",
    "    plt.figure(fig_link.number)\n",
    "    plt.subplot(1,2,1)\n",
    "    plt.cla()\n",
    "    hplt.plot_q(tx_data['t'], tx_data['q'], \"Fiber input\")\n",
    "    \n",
    "    plt.subplot(1,2,2)\n",
    "    plt.cla()\n",
    "    hplt.plot_qout(rx_data['t'], rx_data['q'], \"Fiber output\")\n",
    "    \n",
    "    # Results to list\n",
    "    res_list.clear()\n",
    "    res_list.append(tx_data)\n",
    "    res_list.append(rx_data)\n",
    "    \n",
    "    return"
   ]
  },
  {
   "cell_type": "markdown",
   "metadata": {},
   "source": [
    "## Fiber parameters"
   ]
  },
  {
   "cell_type": "code",
   "execution_count": null,
   "metadata": {},
   "outputs": [],
   "source": [
    "display(ui_link)\n",
    "\n",
    "fig_alpha = plt.figure(figsize=(8,4))\n",
    "\n",
    "update_and_plot_alpha('EDFA')"
   ]
  },
  {
   "cell_type": "markdown",
   "metadata": {},
   "source": [
    "## Modulator parameters"
   ]
  },
  {
   "cell_type": "code",
   "execution_count": null,
   "metadata": {},
   "outputs": [],
   "source": [
    "display(ui_mod)\n",
    "\n",
    "fig_vis = plt.figure(figsize=(12,5.5))\n",
    "plt.subplot(1,2,1)\n",
    "plt.subplot(1,2,2)\n",
    "\n",
    "update_and_plot_modulator(selected_constellation.value,False,selected_power_normalization.value,selected_path_average.value)"
   ]
  },
  {
   "cell_type": "markdown",
   "metadata": {},
   "source": [
    "## Simulate transmission"
   ]
  },
  {
   "cell_type": "code",
   "execution_count": null,
   "metadata": {},
   "outputs": [],
   "source": [
    "display(ui_transmit)\n",
    "\n",
    "fig_link = plt.figure(figsize=(12,5.5))\n",
    "\n",
    "transmit_button.on_click(on_transmit_clicked)"
   ]
  },
  {
   "cell_type": "markdown",
   "metadata": {},
   "source": [
    "## Quality Assessment"
   ]
  },
  {
   "cell_type": "code",
   "execution_count": null,
   "metadata": {},
   "outputs": [],
   "source": [
    "tx_data = res_list[0]\n",
    "rx_data = res_list[1]\n",
    "\n",
    "#hplt.plot_contspec(xi, contspec, r\"$|r(\\xi)|$\", new_fig=True)\n",
    "#hplt.plot_q(t, q[\"tx\"], \"Fiber input\", new_fig=True)\n",
    "#hplt.plot_q(t, q[\"rx\"], \"Fiber output\", new_fig=True)\n",
    "\n",
    "constellation_diagram = ConstellationDiagram(example.constellation)\n",
    "constellation_diagram.plot(rx_data[\"symbols\"], new_fig=True)\n",
    "\n",
    "bit_error_rate = BitErrorRatio(example.constellation)\n",
    "ber, nerr, nbits = bit_error_rate.compute(tx_data[\"symbols\"], rx_data[\"symbols\"])\n",
    "print(\"Bit error rate =\", ber)\n",
    "\n",
    "modulation_efficiency = ModulationEfficiency()\n",
    "eff = modulation_efficiency.compute(tx_data[\"t\"], tx_data[\"q\"], rx_data[\"q\"], nerr, nbits)\n",
    "print(\"Modulation efficiency =\", eff[0], \"bits/s/Hz\")"
   ]
  }
 ],
 "metadata": {
  "kernelspec": {
   "display_name": "Python 3",
   "language": "python",
   "name": "python3"
  },
  "language_info": {
   "codemirror_mode": {
    "name": "ipython",
    "version": 3
   },
   "file_extension": ".py",
   "mimetype": "text/x-python",
   "name": "python",
   "nbconvert_exporter": "python",
   "pygments_lexer": "ipython3",
   "version": "3.7.2"
  }
 },
 "nbformat": 4,
 "nbformat_minor": 2
}
